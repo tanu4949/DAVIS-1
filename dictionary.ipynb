{
  "nbformat": 4,
  "nbformat_minor": 0,
  "metadata": {
    "colab": {
      "provenance": [],
      "authorship_tag": "ABX9TyNS15c7JZwUWrnZ9uJfoEGC",
      "include_colab_link": true
    },
    "kernelspec": {
      "name": "python3",
      "display_name": "Python 3"
    },
    "language_info": {
      "name": "python"
    }
  },
  "cells": [
    {
      "cell_type": "markdown",
      "metadata": {
        "id": "view-in-github",
        "colab_type": "text"
      },
      "source": [
        "<a href=\"https://colab.research.google.com/github/tanu4949/DAVIS-1/blob/main/dictionary.ipynb\" target=\"_parent\"><img src=\"https://colab.research.google.com/assets/colab-badge.svg\" alt=\"Open In Colab\"/></a>"
      ]
    },
    {
      "cell_type": "code",
      "execution_count": null,
      "metadata": {
        "colab": {
          "base_uri": "https://localhost:8080/"
        },
        "id": "ok4_Gqtu8qPr",
        "outputId": "0ef58fbd-bbcc-4a16-c4b2-a554e292fa28"
      },
      "outputs": [
        {
          "output_type": "stream",
          "name": "stdout",
          "text": [
            "Requirement already satisfied: tabulate in /usr/local/lib/python3.10/dist-packages (0.9.0)\n"
          ]
        }
      ],
      "source": [
        "pip install tabulate\n"
      ]
    },
    {
      "cell_type": "code",
      "source": [],
      "metadata": {
        "id": "Hoy21PgE8_M5"
      },
      "execution_count": 1,
      "outputs": []
    },
    {
      "cell_type": "code",
      "source": [
        "from tabulate import tabulate\n",
        "# Using DICTIONARY\n",
        "# Data of the Student from Excel\n",
        "data = [\n",
        "    {\"stdid\": \"std101\", \"stdname\": \"Ashish Kumar\", \"standard\": \"10th\", \"Age\": 15, \"Hindi\": 67, \"English\": 89, \"Maths\": 87, \"Science\": 89, \"Computer\": 90, \"Total\": 422},\n",
        "    {\"stdid\": \"std102\", \"stdname\": \"Abhishek Kumar\", \"standard\": \"10th\", \"Age\": 15, \"Hindi\": 34, \"English\": 45, \"Maths\": 78, \"Science\": 45, \"Computer\": 31, \"Total\": 233},\n",
        "    {\"stdid\": \"std103\", \"stdname\": \"Aman\", \"standard\": \"10th\", \"Age\": 15, \"Hindi\": 56, \"English\": 56, \"Maths\": 78, \"Science\": 78, \"Computer\": 45, \"Total\": 313},\n",
        "    {\"stdid\": \"std104\", \"stdname\": \"Rahul\", \"standard\": \"10th\", \"Age\": 15, \"Hindi\": 78, \"English\": 67, \"Maths\": 89, \"Science\": 89, \"Computer\": 78, \"Total\": 402},\n",
        "    {\"stdid\": \"std105\", \"stdname\": \"Ruby\", \"standard\": \"10th\", \"Age\": 13, \"Hindi\": 89, \"English\": 56, \"Maths\": 45, \"Science\": 45, \"Computer\": 67, \"Total\": 302},\n",
        "    {\"stdid\": \"std106\", \"stdname\": \"Suman\", \"standard\": \"10th\", \"Age\": 13, \"Hindi\": 67, \"English\": 67, \"Maths\": 67, \"Science\": 67, \"Computer\": 67, \"Total\": 335},\n",
        "    {\"stdid\": \"std107\", \"stdname\": \"Saurabh\", \"standard\": \"10th\", \"Age\": 15, \"Hindi\": 45, \"English\": 23, \"Maths\": 45, \"Science\": 78, \"Computer\": 67, \"Total\": 258},\n",
        "    {\"stdid\": \"std108\", \"stdname\": \"Sumit\", \"standard\": \"10th\", \"Age\": 15, \"Hindi\": 89, \"English\": 90, \"Maths\": 89, \"Science\": 90, \"Computer\": 45, \"Total\": 403},\n",
        "    {\"stdid\": \"std109\", \"stdname\": \"Kamlesh\", \"standard\": \"10th\", \"Age\": 15, \"Hindi\": 78, \"English\": 45, \"Maths\": 78, \"Science\": 78, \"Computer\": 78, \"Total\": 337},\n",
        "    {\"stdid\": \"std110\", \"stdname\": \"Rohan\", \"standard\": \"10th\", \"Age\": 15, \"Hindi\": 12, \"English\": 24, \"Maths\": 45, \"Science\": 56, \"Computer\": 34, \"Total\": 171}\n",
        "]\n",
        "# To print the data in tabular form\n",
        "print(tabulate(data, headers=\"keys\", tablefmt=\"grid\"))\n",
        "# Initialize an empty list to store names of students\n",
        "filtered_students = []\n",
        "# To check if the student's English marks is greater than 50\n",
        "for student in data:\n",
        "    if student[\"English\"] > 50:\n",
        "        filtered_students.append(student[\"stdname\"])\n",
        "# Print the names of students\n",
        "print(\"Students whose marks in English are greater than 50:\")\n",
        "for name in filtered_students:\n",
        "    print(name)\n",
        "\n",
        "print(\"------------------*------------------*-----------------*------------------\")\n",
        "print(\"Name and Age of a student who are top four scorer in Maths:\")\n",
        "# Sort data based on Maths scores in descending order\n",
        "sorted_data = sorted(data, key=lambda x: x[\"Maths\"], reverse=True)\n",
        "top_four = sorted_data[0:4]\n",
        "# Prepare table data that contain the name and age of top four scorer of Maths\n",
        "table_data = [[student[\"stdname\"], student[\"Age\"]] for student in top_four]\n",
        "# Display the table_data in tabular form\n",
        "print(tabulate(table_data, headers=[\"Student Name\", \"Age\"], tablefmt=\"grid\"))\n",
        "\n",
        "print(\"------------------*------------------*-----------------*------------------\")\n",
        "print(\"Name, Id and Age of student who are bottom three scorer in Computer:\")\n",
        "# Sort data based on Computer scores in ascending order\n",
        "sorted_data = sorted(data, key=lambda x: x[\"Computer\"])\n",
        "bottom_three = sorted_data[:3]\n",
        "\n",
        "#Prepare table data that contain the Name ,Id and Age of bottom three scorer in Computer\n",
        "table_data = [[student[\"stdname\"], student[\"stdid\"], student[\"Age\"]] for student in bottom_three]\n",
        "# Display the table_data in tabular form\n",
        "print(tabulate(table_data, headers=[\"Student Name\", \"Student ID\", \"Age\"], tablefmt=\"grid\"))"
      ],
      "metadata": {
        "colab": {
          "base_uri": "https://localhost:8080/"
        },
        "id": "BGRapbm1gl7d",
        "outputId": "cf0b6a70-702a-4266-fc29-b19495f65b35"
      },
      "execution_count": 2,
      "outputs": [
        {
          "output_type": "stream",
          "name": "stdout",
          "text": [
            "+---------+----------------+------------+-------+---------+-----------+---------+-----------+------------+---------+\n",
            "| stdid   | stdname        | standard   |   Age |   Hindi |   English |   Maths |   Science |   Computer |   Total |\n",
            "+=========+================+============+=======+=========+===========+=========+===========+============+=========+\n",
            "| std101  | Ashish Kumar   | 10th       |    15 |      67 |        89 |      87 |        89 |         90 |     422 |\n",
            "+---------+----------------+------------+-------+---------+-----------+---------+-----------+------------+---------+\n",
            "| std102  | Abhishek Kumar | 10th       |    15 |      34 |        45 |      78 |        45 |         31 |     233 |\n",
            "+---------+----------------+------------+-------+---------+-----------+---------+-----------+------------+---------+\n",
            "| std103  | Aman           | 10th       |    15 |      56 |        56 |      78 |        78 |         45 |     313 |\n",
            "+---------+----------------+------------+-------+---------+-----------+---------+-----------+------------+---------+\n",
            "| std104  | Rahul          | 10th       |    15 |      78 |        67 |      89 |        89 |         78 |     402 |\n",
            "+---------+----------------+------------+-------+---------+-----------+---------+-----------+------------+---------+\n",
            "| std105  | Ruby           | 10th       |    13 |      89 |        56 |      45 |        45 |         67 |     302 |\n",
            "+---------+----------------+------------+-------+---------+-----------+---------+-----------+------------+---------+\n",
            "| std106  | Suman          | 10th       |    13 |      67 |        67 |      67 |        67 |         67 |     335 |\n",
            "+---------+----------------+------------+-------+---------+-----------+---------+-----------+------------+---------+\n",
            "| std107  | Saurabh        | 10th       |    15 |      45 |        23 |      45 |        78 |         67 |     258 |\n",
            "+---------+----------------+------------+-------+---------+-----------+---------+-----------+------------+---------+\n",
            "| std108  | Sumit          | 10th       |    15 |      89 |        90 |      89 |        90 |         45 |     403 |\n",
            "+---------+----------------+------------+-------+---------+-----------+---------+-----------+------------+---------+\n",
            "| std109  | Kamlesh        | 10th       |    15 |      78 |        45 |      78 |        78 |         78 |     337 |\n",
            "+---------+----------------+------------+-------+---------+-----------+---------+-----------+------------+---------+\n",
            "| std110  | Rohan          | 10th       |    15 |      12 |        24 |      45 |        56 |         34 |     171 |\n",
            "+---------+----------------+------------+-------+---------+-----------+---------+-----------+------------+---------+\n",
            "Students whose marks in English are greater than 50:\n",
            "Ashish Kumar\n",
            "Aman\n",
            "Rahul\n",
            "Ruby\n",
            "Suman\n",
            "Sumit\n",
            "------------------*------------------*-----------------*------------------\n",
            "Name and Age of a student who are top four scorer in Maths:\n",
            "+----------------+-------+\n",
            "| Student Name   |   Age |\n",
            "+================+=======+\n",
            "| Rahul          |    15 |\n",
            "+----------------+-------+\n",
            "| Sumit          |    15 |\n",
            "+----------------+-------+\n",
            "| Ashish Kumar   |    15 |\n",
            "+----------------+-------+\n",
            "| Abhishek Kumar |    15 |\n",
            "+----------------+-------+\n",
            "------------------*------------------*-----------------*------------------\n",
            "Name, Id and Age of student who are bottom three scorer in Computer:\n",
            "+----------------+--------------+-------+\n",
            "| Student Name   | Student ID   |   Age |\n",
            "+================+==============+=======+\n",
            "| Abhishek Kumar | std102       |    15 |\n",
            "+----------------+--------------+-------+\n",
            "| Rohan          | std110       |    15 |\n",
            "+----------------+--------------+-------+\n",
            "| Aman           | std103       |    15 |\n",
            "+----------------+--------------+-------+\n"
          ]
        }
      ]
    }
  ]
}