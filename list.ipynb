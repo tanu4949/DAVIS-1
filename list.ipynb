{
  "nbformat": 4,
  "nbformat_minor": 0,
  "metadata": {
    "colab": {
      "provenance": [],
      "authorship_tag": "ABX9TyOQZ90ZYhuPw272j4eSehCv",
      "include_colab_link": true
    },
    "kernelspec": {
      "name": "python3",
      "display_name": "Python 3"
    },
    "language_info": {
      "name": "python"
    }
  },
  "cells": [
    {
      "cell_type": "markdown",
      "metadata": {
        "id": "view-in-github",
        "colab_type": "text"
      },
      "source": [
        "<a href=\"https://colab.research.google.com/github/tanu4949/DAVIS-1/blob/main/list.ipynb\" target=\"_parent\"><img src=\"https://colab.research.google.com/assets/colab-badge.svg\" alt=\"Open In Colab\"/></a>"
      ]
    },
    {
      "cell_type": "code",
      "execution_count": null,
      "metadata": {
        "colab": {
          "base_uri": "https://localhost:8080/"
        },
        "id": "ok4_Gqtu8qPr",
        "outputId": "0ef58fbd-bbcc-4a16-c4b2-a554e292fa28"
      },
      "outputs": [
        {
          "output_type": "stream",
          "name": "stdout",
          "text": [
            "Requirement already satisfied: tabulate in /usr/local/lib/python3.10/dist-packages (0.9.0)\n"
          ]
        }
      ],
      "source": [
        "pip install tabulate\n"
      ]
    },
    {
      "cell_type": "code",
      "source": [
        "from tabulate import tabulate\n",
        "data = [\n",
        "     [\"std101\", \"Ashish Kumar\", \"10th\", 15, 67, 89, 87, 89, 90, 422],\n",
        "     [\"std102\", \"Abhishek Kumar\", \"10th\", 15, 34, 54, 78, 45, 31, 233],\n",
        "     [\"std103\", \"Aman\", \"10th\", 15, 56, 56, 78, 78, 45, 313],\n",
        "     [\"std104\", \"Rahul\", \"10th\", 15, 78, 67, 89, 89, 78, 402],\n",
        "           [\"std105\", \"Ruby\", \"10th\", 13, 89, 56, 45, 45, 67, 302],\n",
        "            [\"std106\", \"Suman\", \"10th\", 13, 67, 67, 67, 67, 67, 335],\n",
        "             [\"std107\", \"Saurabh\", \"10th\", 15, 45, 23, 45, 78, 67, 258],\n",
        "              [\"std108\", \"Sumit\", \"10th\", 15, 89, 90, 89, 90, 45, 403],\n",
        "               [\"std109\", \"Kamlesh\", \"10th\", 15, 78, 45, 78, 78, 78, 337],\n",
        "                [\"std110\", \"Rohan\", \"10th\", 15, 12, 24, 45, 56, 34, 171] ]\n",
        "headers = [\"stdid\", \"stdname\", \"standard\", \"Age\", \"Hindi\", \"English\", \"Maths\", \"Science\", \"Computer\", \"Total\"]\n",
        "print(tabulate(data, headers=headers, tablefmt=\"grid\"))\n",
        "\n",
        "print(\"-----------------print whose marks >50 in english-----------------\")\n",
        "for row in data:\n",
        "      if row[5]>50:\n",
        "        print(row[1])\n",
        "print()\n",
        "\n",
        "print(\"------------name and age of top4 scorers of maths------------\")\n",
        "score=sorted(data,key=lambda row:row[6],reverse=True)\n",
        "print('name','age')\n",
        "print(score[0][1],score[0][3])\n",
        "print(score[1][1],score[0][3])\n",
        "print(score[2][1], score[0][3])\n",
        "print(score[3][1], score[0][3])\n",
        "print()\n",
        "\n"
      ],
      "metadata": {
        "colab": {
          "base_uri": "https://localhost:8080/"
        },
        "id": "Hoy21PgE8_M5",
        "outputId": "103438fb-d73c-488d-fd9e-de330d88a384"
      },
      "execution_count": null,
      "outputs": [
        {
          "output_type": "stream",
          "name": "stdout",
          "text": [
            "+---------+----------------+------------+-------+---------+-----------+---------+-----------+------------+---------+\n",
            "| stdid   | stdname        | standard   |   Age |   Hindi |   English |   Maths |   Science |   Computer |   Total |\n",
            "+=========+================+============+=======+=========+===========+=========+===========+============+=========+\n",
            "| std101  | Ashish Kumar   | 10th       |    15 |      67 |        89 |      87 |        89 |         90 |     422 |\n",
            "+---------+----------------+------------+-------+---------+-----------+---------+-----------+------------+---------+\n",
            "| std102  | Abhishek Kumar | 10th       |    15 |      34 |        54 |      78 |        45 |         31 |     233 |\n",
            "+---------+----------------+------------+-------+---------+-----------+---------+-----------+------------+---------+\n",
            "| std103  | Aman           | 10th       |    15 |      56 |        56 |      78 |        78 |         45 |     313 |\n",
            "+---------+----------------+------------+-------+---------+-----------+---------+-----------+------------+---------+\n",
            "| std104  | Rahul          | 10th       |    15 |      78 |        67 |      89 |        89 |         78 |     402 |\n",
            "+---------+----------------+------------+-------+---------+-----------+---------+-----------+------------+---------+\n",
            "| std105  | Ruby           | 10th       |    13 |      89 |        56 |      45 |        45 |         67 |     302 |\n",
            "+---------+----------------+------------+-------+---------+-----------+---------+-----------+------------+---------+\n",
            "| std106  | Suman          | 10th       |    13 |      67 |        67 |      67 |        67 |         67 |     335 |\n",
            "+---------+----------------+------------+-------+---------+-----------+---------+-----------+------------+---------+\n",
            "| std107  | Saurabh        | 10th       |    15 |      45 |        23 |      45 |        78 |         67 |     258 |\n",
            "+---------+----------------+------------+-------+---------+-----------+---------+-----------+------------+---------+\n",
            "| std108  | Sumit          | 10th       |    15 |      89 |        90 |      89 |        90 |         45 |     403 |\n",
            "+---------+----------------+------------+-------+---------+-----------+---------+-----------+------------+---------+\n",
            "| std109  | Kamlesh        | 10th       |    15 |      78 |        45 |      78 |        78 |         78 |     337 |\n",
            "+---------+----------------+------------+-------+---------+-----------+---------+-----------+------------+---------+\n",
            "| std110  | Rohan          | 10th       |    15 |      12 |        24 |      45 |        56 |         34 |     171 |\n",
            "+---------+----------------+------------+-------+---------+-----------+---------+-----------+------------+---------+\n",
            "-----------------print whose marks >50 in english-----------------\n",
            "Ashish Kumar\n",
            "Abhishek Kumar\n",
            "Aman\n",
            "Rahul\n",
            "Ruby\n",
            "Suman\n",
            "Sumit\n",
            "\n",
            "------------name and age of top4 scorers of maths------------\n",
            "name age\n",
            "Rahul 15\n",
            "Sumit 15\n",
            "Ashish Kumar 15\n",
            "Abhishek Kumar 15\n",
            "\n"
          ]
        }
      ]
    },
    {
      "cell_type": "code",
      "source": [],
      "metadata": {
        "id": "BGRapbm1gl7d"
      },
      "execution_count": 1,
      "outputs": []
    }
  ]
}